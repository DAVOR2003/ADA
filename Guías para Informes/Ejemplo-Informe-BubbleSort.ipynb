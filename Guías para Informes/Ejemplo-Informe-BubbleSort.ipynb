{
  "nbformat": 4,
  "nbformat_minor": 0,
  "metadata": {
    "colab": {
      "name": "BubbleSort",
      "provenance": [],
      "authorship_tag": "ABX9TyM0ORc3ade3TKzNYfj5A315",
      "include_colab_link": true
    },
    "kernelspec": {
      "name": "python3",
      "display_name": "Python 3"
    },
    "language_info": {
      "name": "python"
    }
  },
  "cells": [
    {
      "cell_type": "markdown",
      "metadata": {
        "id": "view-in-github",
        "colab_type": "text"
      },
      "source": [
        "<a href=\"https://colab.research.google.com/github/rilianx/ADA/blob/main/Informe%200.%20BubbleSort.ipynb\" target=\"_parent\"><img src=\"https://colab.research.google.com/assets/colab-badge.svg\" alt=\"Open In Colab\"/></a>"
      ]
    },
    {
      "cell_type": "markdown",
      "source": [
        "# 1. Problema de ordenamiento\n",
        "\n",
        "**Entrada**: Secuencia de n números $[a_1,a_2,...,a_n]$\n",
        "\n",
        "**Salida**: Permutación ordenada de la secuencia de entrada: $[a_1',a_2',...,a_n']$, de tal manera que $a_1'\\leq a_2' \\leq... \\leq a_n'$.\n",
        "\n",
        "![image](https://i.imgur.com/MvYh5qf.png)\n",
        "\n",
        "Desde los comienzos de la computación, el problema del ordenamiento ha atraído gran cantidad de investigación, tal vez debido a la complejidad de resolverlo eficientemente a pesar de su planteamiento simple y familiar. Por ejemplo, BubbleSort fue analizado desde 1956.​ Aunque muchos puedan considerarlo un problema resuelto, nuevos y útiles algoritmos de ordenamiento se siguen inventado hasta el día de hoy (por ejemplo, el ordenamiento de biblioteca se publicó por primera vez en el 2004)."
      ],
      "metadata": {
        "id": "jT2qsbCS3Fzu"
      }
    },
    {
      "cell_type": "markdown",
      "source": [
        "# 2. BubbleSort\n",
        "\n",
        "El siguiente código muestra una implementación del algoritmo **BubbleSort**."
      ],
      "metadata": {
        "id": "nn1Sn60L3mrJ"
      }
    },
    {
      "cell_type": "markdown",
      "source": [
        "## 2.1. Código"
      ],
      "metadata": {
        "id": "ye6dYlnqLNtD"
      }
    },
    {
      "cell_type": "code",
      "execution_count": 49,
      "metadata": {
        "id": "X6zMAoC1aos8",
        "colab": {
          "base_uri": "https://localhost:8080/"
        },
        "outputId": "1ff78cbd-428d-431b-c950-c4da7e8f4818"
      },
      "outputs": [
        {
          "output_type": "stream",
          "name": "stdout",
          "text": [
            "Entrada:  [5, 8, 7, 1, 3]\n",
            "Salida:  [1, 3, 5, 7, 8]\n",
            "# comparaciones:  10\n"
          ]
        }
      ],
      "source": [
        "import random\n",
        "from termcolor import colored\n",
        "import copy\n",
        "\n",
        "def bubble_sort(a, verbose=False):\n",
        "    n = len(a)\n",
        "    T = 0 #contador de comparaciones\n",
        "\n",
        "    if verbose == True: print(\"input array:\",a)\n",
        "\n",
        "    for i in range(1,n+1):\n",
        "        if verbose == True: print(\"\\nPasada\",i)\n",
        "        # Flag que indica si el arreglo ya se encuentra ordenado\n",
        "        already_sorted = True\n",
        "\n",
        "        # Se recorre el arreglo\n",
        "        for j in range(n - i):\n",
        "            T +=1\n",
        "            if a[j] > a[j + 1]:\n",
        "                # Si el elemento es mayor al siguiente se intercambia\n",
        "                a[j], a[j + 1] = a[j + 1], a[j]\n",
        "                if verbose == True: \n",
        "                  print(str(a[:j])[1:-1],\",\",colored(f\"{str(a[j:j+2])[1:-1]}\",\"red\"),\",\",str(a[j+2:])[1:-1])\n",
        "\n",
        "                already_sorted = False\n",
        "\n",
        "        if already_sorted == False and verbose == True: \n",
        "           print(\"\\nAl finalizar pasada:\")\n",
        "           print(str(a[:n-i])[1:-1],\",\",colored(f\"{str(a[n-i:])[1:-1]}\",\"blue\"))\n",
        "\n",
        "        if already_sorted:\n",
        "            if verbose == True: print(\"is sorted!\")\n",
        "            break\n",
        "\n",
        "    if verbose == True: print(\"\\noutput array:\",a)\n",
        "\n",
        "    return a, T\n",
        "\n",
        "# Ejemplo\n",
        "A = [5,8,7,1,3]\n",
        "print(\"Entrada: \",A)\n",
        "A, counter = bubble_sort(A)\n",
        "print(\"Salida: \",A)\n",
        "print(\"# comparaciones: \", counter)"
      ]
    },
    {
      "cell_type": "markdown",
      "source": [
        "## 2.2. Descripción del algoritmo\n",
        "\n",
        "El algoritmo recibe como entrada una lista (o arreglo) $a$ con la secuencia de $n$ elementos que queremos ordenar. Luego, los números se ordenan dentro de la misma lista.\n",
        "\n",
        "1. En cada iteración $i$, el algoritmo recorre el arreglo comparando cada elemento `a[j]` con el elemento `a[j+1]`. Si `a[j]>a[j+1]`, entonces los elementos se intercambian de posiciones.\n",
        "\n",
        "2. Si el arreglo se encuentra ordenado, el algoritmo termina. Si no, se vuelve a recorrer (paso 1).\n",
        "\n",
        "3. Al final, se retorna el arreglo ordenado y un contador de comparaciones: `T`.\n",
        "\n",
        "Note que no es necesario recorrer todo el arreglo, basta llegar a la posición $n-(i-1)$, ya que en cada iteración un nuevo elemento ordenado se coloca al final del arreglo. Es decir, en cada iteración se tiene algo como la imagen:\n",
        "\n",
        "![image](https://docs.google.com/drawings/d/e/2PACX-1vSKxkdpA0zodbOxuMOYdMV58hswieUqJmlb6sdEBW99ljn0aw6CJ3wLrY7Yp5Gen5i1kLeZ3nPVJCQH/pub?w=590&h=234)\n",
        "\n",
        "Cuando la variable `verbose` es `True` se muestra información para ver lo que pasa paso a paso dentro de la función."
      ],
      "metadata": {
        "id": "XHIw15F97CnZ"
      }
    },
    {
      "cell_type": "markdown",
      "source": [
        "## 2.3. Ejemplo\n",
        "\n",
        "Consideremos, por ejemplo, el arreglo:\n",
        "\n",
        "$a=[4,3,5,1]$\n",
        "\n",
        "En la primera pasada intercambiamos el 4 por el 3 y el 5 por el 1:\n",
        "\n",
        "$a=[3,4,1,5]$\n",
        "\n",
        "Luego, en la segunda pasada el 4 se intercambia con el 1:\n",
        "\n",
        "$a=[3,1,4,5]$\n",
        "\n",
        "Y en la tercera pasada el 3 con el 1:\n",
        "\n",
        "$a=[1,3,4,5]$\n",
        "\n",
        "El algoritmo realizará una última pasada antes de finalizar. En esta pasada sabrá que el arreglo está ordenado (`already_sorted=True` en el código).\n",
        "\n",
        "Y ya tenemos el arreglo ordenado."
      ],
      "metadata": {
        "id": "o0BhPA6mio_M"
      }
    },
    {
      "cell_type": "markdown",
      "source": [
        "## 2.4. Ejecución del algoritmo paso a paso (`verbose=True`)\n",
        "\n",
        "Usando la opción `verbose=True`, podemos ver lo que ocurre en cada iteración del algoritmo."
      ],
      "metadata": {
        "id": "5TZnpkE0dgta"
      }
    },
    {
      "cell_type": "code",
      "source": [
        "import random\n",
        "a = random.sample(range(1, 100), 6)\n",
        "a,c= bubble_sort(a,verbose=True)"
      ],
      "metadata": {
        "colab": {
          "base_uri": "https://localhost:8080/"
        },
        "id": "H_93UBKv8VQl",
        "outputId": "8c5f0bb0-273a-4ec0-b395-4207bb9d28ff"
      },
      "execution_count": 50,
      "outputs": [
        {
          "output_type": "stream",
          "name": "stdout",
          "text": [
            "input array: [60, 62, 71, 92, 40, 67]\n",
            "\n",
            "Pasada 1\n",
            "60, 62, 71 , \u001b[31m40, 92\u001b[0m , 67\n",
            "60, 62, 71, 40 , \u001b[31m67, 92\u001b[0m , \n",
            "\n",
            "Al finalizar pasada:\n",
            "60, 62, 71, 40, 67 , \u001b[34m92\u001b[0m\n",
            "\n",
            "Pasada 2\n",
            "60, 62 , \u001b[31m40, 71\u001b[0m , 67, 92\n",
            "60, 62, 40 , \u001b[31m67, 71\u001b[0m , 92\n",
            "\n",
            "Al finalizar pasada:\n",
            "60, 62, 40, 67 , \u001b[34m71, 92\u001b[0m\n",
            "\n",
            "Pasada 3\n",
            "60 , \u001b[31m40, 62\u001b[0m , 67, 71, 92\n",
            "\n",
            "Al finalizar pasada:\n",
            "60, 40, 62 , \u001b[34m67, 71, 92\u001b[0m\n",
            "\n",
            "Pasada 4\n",
            " , \u001b[31m40, 60\u001b[0m , 62, 67, 71, 92\n",
            "\n",
            "Al finalizar pasada:\n",
            "40, 60 , \u001b[34m62, 67, 71, 92\u001b[0m\n",
            "\n",
            "Pasada 5\n",
            "is sorted!\n",
            "\n",
            "output array: [40, 60, 62, 67, 71, 92]\n"
          ]
        }
      ]
    },
    {
      "cell_type": "markdown",
      "source": [
        "En cada iteración (pasada) se recorre e intercambian elementos en rojo.\n",
        "\n",
        "Note que al finalizar cada pasada, un nuevo elemento queda ordenado al final del arreglo (elementos en azul).\n",
        "\n",
        "\n",
        "\n"
      ],
      "metadata": {
        "id": "GXXxcYI38GFB"
      }
    },
    {
      "cell_type": "markdown",
      "source": [
        "# 3. Tiempo de ejecución\n",
        "\n",
        "### **Teorema (Tiempo de ejecución).**\n",
        "\n",
        "*El algoritmo **BubbleSort** tiene un **tiempo de ejecución de** $O(n^2)$ en el peor caso.*\n",
        "\n",
        "## Prueba del teorema\n",
        "\n",
        "Observando el código, podemos apreciar que el **peor caso** ocurre cuando el **menor elemento** se encuentra al final del arreglo. En este caso, en cada pasada el elemento se movería una casilla a la izquierda, por lo que se necesitaría realizar $n-1$ pasadas para que los elementos quedaran ordenados. "
      ],
      "metadata": {
        "id": "NmzbekC-4NNC"
      }
    },
    {
      "cell_type": "markdown",
      "source": [
        "### Ejemplo"
      ],
      "metadata": {
        "id": "KlqGq_7tNo40"
      }
    },
    {
      "cell_type": "code",
      "source": [
        "a =[2,3,4,1];\n",
        "print(\"Entrada no ordenada:\",a)\n",
        "a,counter=bubble_sort(a,True)\n",
        "print(\"Salida ordenada:\",a)\n",
        "print(\"Total de comparaciones realizadas:\",counter)"
      ],
      "metadata": {
        "colab": {
          "base_uri": "https://localhost:8080/"
        },
        "id": "hpqCkU0wBNAv",
        "outputId": "5854417a-3f10-44b5-8250-a4c75a3bdfcf"
      },
      "execution_count": null,
      "outputs": [
        {
          "output_type": "stream",
          "name": "stdout",
          "text": [
            "Entrada no ordenada: [2, 3, 4, 1]\n",
            "input array: [2, 3, 4, 1]\n",
            "\n",
            "Pasada 1\n",
            "2, 3 , \u001b[31m1, 4\u001b[0m , \n",
            "\n",
            "Al finalizar pasada:\n",
            "2, 3, 1 , \u001b[34m4\u001b[0m\n",
            "\n",
            "Pasada 2\n",
            "2 , \u001b[31m1, 3\u001b[0m , 4\n",
            "\n",
            "Al finalizar pasada:\n",
            "2, 1 , \u001b[34m3, 4\u001b[0m\n",
            "\n",
            "Pasada 3\n",
            " , \u001b[31m1, 2\u001b[0m , 3, 4\n",
            "\n",
            "Al finalizar pasada:\n",
            "1 , \u001b[34m2, 3, 4\u001b[0m\n",
            "\n",
            "Pasada 4\n",
            "is sorted!\n",
            "\n",
            "output array: [1, 2, 3, 4]\n",
            "Salida ordenada: [1, 2, 3, 4]\n",
            "Total de comparaciones realizadas: 6\n"
          ]
        }
      ]
    },
    {
      "cell_type": "markdown",
      "source": [
        "En este caso, la primera pasada hizo 3 comparaciones, la segunda 2 y la tercera 1. Total: 6.\n",
        "\n",
        "En el caso general, se deberían realizar $\\sum\\limits_{i=0}^{n-1} i=\\frac{n(n-1)}{2}$ comparaciones. Por lo que el **tiempo de ejecución del algoritmo en el peor caso** es $O(n^2)$. $\\Box$"
      ],
      "metadata": {
        "id": "2HQH2ltkBUbq"
      }
    },
    {
      "cell_type": "markdown",
      "source": [
        "# 4. Correctitud\n",
        "\n",
        "### **Teorema (Correctitud).**\n",
        "\n",
        "*El algoritmo **BubbleSort** genera un arreglo: $[a_1',a_2',...,a_n']$, con los mismos elementos del arreglo de entrada ordenados de menor a mayor, es decir,* $a_1'\\leq a_2' \\leq... \\leq a_n'$.\n",
        "\n",
        "\n",
        "## Prueba del Teorema\n",
        "\n",
        "Previamente observamos que en cada iteración de BubbleSort agregamos un nuevo elemento ordenado al final del arreglo.\n",
        "\n",
        "Por lo que probaremos la siguiente **propiedad invariante de bucle** para el `BubbleSort`:\n",
        "\n",
        "> Al comienzo de cada iteración $i$ del bucle más grande,los últimos $i-1$ elementos del arreglo corresponden a los mayores elementos del arreglo original ordenados de menor a mayor.\n",
        "\n",
        "**Inicialización**\n",
        "\n",
        "Al comienzo de la primera iteración (i=1), los últimos $i-1=0$ elementos del arreglo cumplen la propiedad. Esto es trivialmente cierto.\n",
        "\n",
        "**Mantención**\n",
        "\n",
        "Aplicando inducción, asumimos que al comienzo de cada iteración $i$ se cumple la propiedad. Es decir, los últimos $i-1$ elementos del arreglo corresponden a los mayores elementos del arreglo original ordenados de menor a mayor.\n",
        "\n",
        "Consideremos que $x$ como el mayor elemento de la primera parte del arreglo (como se muestra en la figura)\n",
        "\n",
        "![image](https://i.imgur.com/61Lie00.png)\n",
        "\n",
        "Durante el recorrido del BubbleSort, $x$ se irá intercambiando con los siguientes elementos (ya que son menores) hasta llegar justo a la izquierda del bloque ordenado (ya que son los mayores del arreglo, por ende mayores que $x$):\n",
        "\n",
        "![image](https://i.imgur.com/29Y3xat.png)\n",
        "\n",
        "\n",
        "Al finalizar la iteración (y al comienzo de la siguiente), se seguirá cumpliendo la **propiedad invariante**.\n",
        "\n",
        "![image](https://i.imgur.com/4rVO04A.png)\n",
        "\n",
        "\n",
        "**Correctitud**\n",
        "\n",
        "Finalmente, como la propiedad de bucle invariante es verdadera al incio del bucle y se mantiene en cada iteración, podemos decir que al **finalizar la n-ésima iteración del algoritmo**, se que genera un arreglo $[a_1',a_2',...,a_n']$, con los mismos elementos del arreglo de entrada ordenados de menor a mayor. $\\Box$"
      ],
      "metadata": {
        "id": "-ifxrrqlC4Hc"
      }
    },
    {
      "cell_type": "markdown",
      "source": [
        "# 5. Experimentos\n",
        "\n",
        "## 5.1. Número de comparaciones\n",
        "\n",
        "A continuación se muestra gráficamente una comparación entre:\n",
        "\n",
        "* cantidad de comparaciones del peor caso calculadas matemáticamente,\n",
        "* cantidad de comparaciones del mejor caso calculadas matemáticamente (n-1 comparaciones si el arreglo está ordenado)\n",
        "* cantidad de comparaciones realizadas experimentalmente para entradas aleatorias\n",
        "\n",
        "para tamaños de problemas con $n \\in [5,19]$.\n",
        "\n",
        "Los arreglos de entrada son generados aleatoriamente haciendo un sampling de un conjunto de números entre 1 y 100."
      ],
      "metadata": {
        "id": "2hYUM_9OHF38"
      }
    },
    {
      "cell_type": "code",
      "source": [
        "import matplotlib.pyplot as plt\n",
        "\n",
        "x=[n for n in range(5,20)] \n",
        "y1=[n*(n-1)/2 for n in range(5,20)] # worst case\n",
        "y2=[n-1 for n in range(5,20)] # best case\n",
        "y=[]; \n",
        "\n",
        "for n in range(5,20):\n",
        "  a = random.sample(range(1, 100), n)\n",
        "  a,counter = bubble_sort(a)\n",
        "  y.append(counter)\n",
        "\n",
        "plt.plot(x,y)\n",
        "plt.plot(x,y1)\n",
        "plt.plot(x,y2)\n",
        "plt.legend([\"Bubble Sort\", \"theoretical worst case\", \"theoretical best case\"])\n",
        "\n",
        "plt.xlabel('n')\n",
        "plt.ylabel('number of operations')\n",
        "plt.show()"
      ],
      "metadata": {
        "colab": {
          "base_uri": "https://localhost:8080/",
          "height": 279
        },
        "id": "LxKv6b1WE-t8",
        "outputId": "a3876ab3-2c20-4dce-dbff-a12396464a9b"
      },
      "execution_count": 60,
      "outputs": [
        {
          "output_type": "display_data",
          "data": {
            "text/plain": [
              "<Figure size 432x288 with 1 Axes>"
            ],
            "image/png": "[encoded data removed]"
          },
          "metadata": {
            "needs_background": "light"
          }
        }
      ]
    },
    {
      "cell_type": "markdown",
      "source": [
        "### Análisis de resultados\n",
        "\n",
        "En el gráfico se puede apreciar que, como cabía de esperar, el tiempo de ejecución empírico esta por debajo del peor caso teórico. Sin embargo, note lo cercano que está. \n",
        "\n",
        "Por otro lado, el mejor caso tiene cota asintótica $\\Omega(n)$, sin embargo, para arreglos generados aleatoriamente está muy lejos de los resultados experimentales."
      ],
      "metadata": {
        "id": "0LpupLb_HnWS"
      }
    },
    {
      "cell_type": "markdown",
      "source": [
        "## 5.2. Tiempo de ejecución (experimental)\n",
        "\n",
        "En el siguiente gráfico se reporta el tiempo de ejecución del algoritmo **BubbleSort** en función del tamaño del problema para arreglos generados aleatoriamente de tamaños entre $5$ y $500$.\n",
        "\n"
      ],
      "metadata": {
        "id": "5AszHwkmJIfJ"
      }
    },
    {
      "cell_type": "code",
      "source": [
        "import matplotlib.pyplot as plt\n",
        "import datetime\n",
        "from timeit import repeat\n",
        "\n",
        "x=[]; y=[]\n",
        "\n",
        "for n in range(5,500):\n",
        "\n",
        "  a = random.sample(range(1, 1000), n)\n",
        "\n",
        "  #la función repeat está ejecutando 20 veces bubble_sort con el arreglo a y retorna el mejor tiepo obtenido.\n",
        "  t = repeat(setup=\"from __main__ import bubble_sort\", stmt=f\"bubble_sort({a})\", repeat=1, number=10)\n",
        "\n",
        "  x.append(n)\n",
        "  y.append(t)\n",
        "\n",
        "\n",
        "plt.plot(x,y)\n",
        "plt.legend([\"BubbleSort\"])\n",
        "\n",
        "plt.xlabel('n')\n",
        "plt.ylabel('time in ms')\n",
        "plt.show()"
      ],
      "metadata": {
        "colab": {
          "base_uri": "https://localhost:8080/",
          "height": 280
        },
        "id": "Ffz2Id4WJPsO",
        "outputId": "c0b8cdd7-9c1f-47ec-c7d2-f54b315bc192"
      },
      "execution_count": 58,
      "outputs": [
        {
          "output_type": "display_data",
          "data": {
            "text/plain": [
              "<Figure size 432x288 with 1 Axes>"
            ],
            "image/png": "[encoded data removed]"
          },
          "metadata": {
            "needs_background": "light"
          }
        }
      ]
    },
    {
      "cell_type": "markdown",
      "source": [
        "### Análisis de resultados\n",
        "\n",
        "En el gráfico se puede apreciar, como era de esperarse, que el tiempo de jecución experimental se comporta de manera cuadrática en función del tamaño del problema (al igual que en el análisis teórico).\n",
        "\n",
        "Note que hay unos peaks de tiempo. Estos se deben probablemente al comportamiento impredecible de los procesadores y quizás a otros procesos que también lo están ocupando."
      ],
      "metadata": {
        "id": "8lSmgt-vvpWB"
      }
    }
  ]
}
