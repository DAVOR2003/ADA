{
  "nbformat": 4,
  "nbformat_minor": 0,
  "metadata": {
    "colab": {
      "provenance": [],
      "authorship_tag": "ABX9TyMozA21Cf+gJbEDp7tnZ/AB",
      "include_colab_link": true
    },
    "kernelspec": {
      "name": "python3",
      "display_name": "Python 3"
    },
    "language_info": {
      "name": "python"
    }
  },
  "cells": [
    {
      "cell_type": "markdown",
      "metadata": {
        "id": "view-in-github",
        "colab_type": "text"
      },
      "source": [
        "<a href=\"https://colab.research.google.com/github/DAVOR2003/ADA/blob/main/informe6.ipynb\" target=\"_parent\"><img src=\"https://colab.research.google.com/assets/colab-badge.svg\" alt=\"Open In Colab\"/></a>"
      ]
    },
    {
      "cell_type": "markdown",
      "source": [
        "#1-Descripcion del problema"
      ],
      "metadata": {
        "id": "888q-tTX98Yv"
      }
    },
    {
      "cell_type": "markdown",
      "source": [
        "**Entrada:** Conjunto de números $A = [a_1,a_2,a_3,...,a_n]$ y un índice $k$\n",
        "\n",
        "**Salida:** Valor $n$, que es mayor a $i-1$ elementos de $A$\n"
      ],
      "metadata": {
        "id": "LWd7AaQ9-Hhj"
      }
    },
    {
      "cell_type": "markdown",
      "source": [
        "En la rama de la estadística, es muy importante obtener ciertos valores, como el mínimo y máximo valor de una muestra, la mediana u otros cuantiles de muestra. Entre ellos se encuentra el estadístico de orden , que corresponde al i-ésimo valor más pequeño de una muestra estadística."
      ],
      "metadata": {
        "id": "W0gmpWeY-DPl"
      }
    },
    {
      "cell_type": "markdown",
      "source": [
        "![image.png](https://imgur.com/8gorIah.jpg)"
      ],
      "metadata": {
        "id": "zFbX1dk4-K-t"
      }
    },
    {
      "cell_type": "markdown",
      "source": [
        "#2-Descripcion algoritmo"
      ],
      "metadata": {
        "id": "FK2LvgeS-PMo"
      }
    },
    {
      "cell_type": "markdown",
      "source": [
        "##2.2 Descripción del algoritmo\n",
        "\n",
        "El algoritmo recibe como entrada una lista (o arreglo) $arr$ con la secuencia de $n$ elementos del que se desea conocer su i-ésimo elemento menor.\n",
        "\n",
        "1. Si el arreglo de entrada posee un largo 1, entonces técnicamente su único elemento es el i-ésimo elemento menor, por lo que se retorna.\n",
        "\n",
        "2. Para cada llamada recursiva, `Select` consigue un pivote adecuado para el arreglo llamando a la función `PivotSelection`.\n",
        "\n",
        "3. `PivotSelection` divide el arreglo en subconjuntos de 5 elementos cada uno a lo más para luego ordenarlos con InsertionSort. Después se consigue la mediana de cada subarreglo y se insertan en un arreglo auxiliar. Dicho arreglo se ordena con InsertionSort y se consigue la mediana de las medianas.\n",
        "\n",
        "4. Luego, se utiliza la mediana conseguida como pivote para particionar el arreglo de entrada con la función `Partition`.\n",
        "\n",
        "5. Si el i-ésimo elemento menor buscado se encuentra en la misma posición del pivote, se retorna el elemento contenido en dicha posición. De lo contrario:\n",
        "\n",
        " * Si la posición del pivote es mayor a la del i-ésimo elemento, se regresa al **paso 1** con la partición izquierda.\n",
        "\n",
        " * Si la posición del pivote es menor a la del i-ésimo elemento, se regresa al **paso 1** con la partición derecha.\n",
        "\n",
        "$n$ será el tamaño del problema en cuestión.\n",
        "\n",
        "Cuando la variable `verbose` es `True`, se muestra información por pantalla para ver lo que sucede paso a paso dentro de la función de una forma más explícita.\n"
      ],
      "metadata": {
        "id": "WfKwlGnH-W21"
      }
    },
    {
      "cell_type": "markdown",
      "source": [
        "#Codigo"
      ],
      "metadata": {
        "id": "1UrRJHPP-40Q"
      }
    },
    {
      "cell_type": "code",
      "source": [
        "import random\n",
        "from termcolor import colored\n",
        "\n",
        "\n",
        "def insertionSort(arr, cont, verbose = True):\n",
        "\n",
        "  for i in range(0, len(arr) ):\n",
        "    aux = arr[i]\n",
        "    j = i-1\n",
        "    while j >= inicio and aux < arr[j] :\n",
        "        cont[0] += 1\n",
        "        arr[j+1] = arr[j]\n",
        "        j -= 1\n",
        "        arr[j+1] = aux\n",
        "\n",
        "  return arr\n",
        "\n",
        "def partition(arr, l, r, cont, verbose = True):\n",
        "\n",
        "    x = pivotSelection(arr,l,r, cont, verbose)\n",
        "\n",
        "    i = l\n",
        "    for j in range(l, r):\n",
        "        cont[0]+=1\n",
        "        if arr[j] <= x:\n",
        "            arr[i], arr[j] = arr[j], arr[i]\n",
        "            i += 1\n",
        "              \n",
        "    arr[i], arr[r] = arr[r], arr[i]\n",
        "    return i\n",
        "\n",
        "def pivotSelection(arr, izq, der, cont, verbose = True):\n",
        "\n",
        "    auxArr = arr #Arreglo auxiliar para no alterar el orden del arreglo original\n",
        "\n",
        "    cont[0] += 1\n",
        "    if der-izq <= 5:     #Si el arreglo tiene 5 o menos elementos, no hace falta dividirlo \n",
        "      insertionSort(auxArr,cont) #Luego de ordenar, la mediana será el valor del medio\n",
        "      if(verbose):\n",
        "        print(colored(f\"El largo del arreglo es menor o igual a 5\", \"red\"))\n",
        "        print(colored(f\"Mediana: {auxArr[round((der-izq)/2)]}\", \"green\"))\n",
        "      return auxArr[round((der-izq)/2)]\n",
        "\n",
        "    medianas = []\n",
        "\n",
        "\n",
        "    #Se crean n/5 subarreglos \n",
        "    for i in range(izq, der, 5):\n",
        "      subDer = i+4\n",
        "      cont[0]+=1\n",
        "      if(subDer > der):\n",
        "        subDer = der\n",
        "\n",
        "      subArr = arr[:subDer+1]\n",
        "      subArr = subArr[i:]\n",
        "      #print(subArr)\n",
        "      insertionSort(subArr,cont)    \n",
        "      #Se guarda la mediana en un arreglo de medianas\n",
        "      if(verbose == True):\n",
        "        print(colored(f\"La mediana del sub-arreglo\", \"green\"), colored(f\"{subArr}\", \"blue\"), colored(f\" es:\", \"green\"), colored(f\" {subArr[round(len(subArr)/2)]}\", \"blue\"))\n",
        "      medianas.append(subArr[round(len(subArr)/2)])\n",
        "    if verbose:\n",
        "      print(colored(f\"\\nArreglo de medianas: {medianas}\", \"green\"))\n",
        "    #Se llama recursivamente a esta función pasandole el arreglo de medianas\n",
        "    return pivotSelection(medianas, 0, len(medianas), cont, verbose)\n",
        "\n",
        "\n",
        "\n",
        "def select(arr, l, r, k, cont, verbose = True):\n",
        "  \n",
        "    if (k > 0 and k <= r - l + 1): #Comprobar validez de la entrada\n",
        "        cont[0]+=1\n",
        "        if(verbose == True):\n",
        "          print(colored(f\"El valor que se busca es: {key}\", \"green\"))\n",
        "          print(colored(f\"El arreglo se pasa Partition\\n\", \"yellow\"))\n",
        "        index = partition(arr, l, r, cont, verbose) #Se divide el arreglo\n",
        "\n",
        "        if(verbose == True):\n",
        "          print(colored(f\"\\nEl indice obtenido es: {index}\", \"yellow\"))\n",
        "          print(colored(f\"Arreglo luego de partition {arr}\\n\", \"blue\"))\n",
        "\n",
        "        if (index - l == k - 1): #Si el index es igual al valor ingresado, en esta posición se encuentra el número\n",
        "            cont[0]+=1\n",
        "            if(verbose == True):\n",
        "              print(colored(f\"El indice es igual al valor que se busca {arr[index]}\", \"green\"))\n",
        "            return arr[index]\n",
        "        #Se llama de manera recursiva a la función select con la mitad identificada\n",
        "        if (index - l > k - 1):\n",
        "            cont[0]+=1\n",
        "            if(verbose):\n",
        "               print(colored(f\"Se busca en la mitad: {arr[:index]}\", \"red\"))\n",
        "\n",
        "            return select(arr, l, index - 1, k, cont, verbose)\n",
        "\n",
        "        if(verbose):\n",
        "               print(colored(f\"Se busca en la mitad: {arr[index:]}\", \"red\"))\n",
        "\n",
        "        return select(arr, index + 1, r, k - index + l - 1, cont, verbose)\n",
        "        \n",
        "    else: \n",
        "      print(colored(f\"ERROR\", \"red\"))\n",
        "\n",
        "n = random.randint(10,30)\n",
        "arr = random.sample(range(-50, 100), n)\n",
        "#arr = [7, 4, 9, 2, 11, 1, 3, 19, 8]\n",
        "print(colored(f\"Arreglo recibido: {arr}\\n\", \"magenta\"))\n",
        "inicio = 0; limit = 1; key = 3\n",
        "cont = [0]\n",
        "k_esimo = select(arr, inicio, len(arr)-1, key, cont, False)\n",
        "print(colored(f\"\\nArreglo: {arr}\", \"green\"))\n",
        "print(colored(f\"3° valor más pequeño: {k_esimo}\\t Contador: {cont}\", \"green\"))"
      ],
      "metadata": {
        "colab": {
          "base_uri": "https://localhost:8080/"
        },
        "id": "rvA2iO-x-z6o",
        "outputId": "e43a6075-e15d-4339-ec17-59180aa094e6"
      },
      "execution_count": 1,
      "outputs": [
        {
          "output_type": "stream",
          "name": "stdout",
          "text": [
            "Arreglo recibido: [-18, 11, 23, 55, 1, -8, 71, 19, -25, 40, 44, -24, -43, 76, -31, -27, -45, 10, 37, -2, -39, 83, -35]\n",
            "\n",
            "\n",
            "Arreglo: [-45, -43, -39, -35, -31, -27, -25, -24, -18, -8, -2, 1, 10, 11, 19, 23, 37, 40, 44, 55, 71, 76, 83]\n",
            "3° valor más pequeño: -39\t Contador: [182]\n"
          ]
        }
      ]
    },
    {
      "cell_type": "markdown",
      "source": [
        "##2.3 Ejemplo\n",
        "\n",
        "Considere el arreglo, del cual es desea conocer su séptimo elemento menor:\n",
        "\n",
        "$A = [3, 1, 4, 7, 9, 11, 10, 8]$\n",
        "\n",
        "En primer lugar y para hallar el pivote adecuado, se divide el arreglo en subconjuntos de 5 elementos cada uno a lo más.\n",
        "\n",
        "$A_1 = [3, 1, 4, 7, 9] ;  A_2 = [11, 10, 8]$\n",
        "\n",
        "Luego, cada subarreglo es ordenado de menor a mayor.\n",
        "\n",
        "$A_1 = [1, 3, 4, 7, 9] ; A_2 = [8, 10, 11]$\n",
        "\n",
        "Después, se consigue la mediana de cada subarreglo y se guardan sus valores en un arreglo auxiliar.\n",
        "\n",
        "$ Med = [4 (A_1), 10 (A_2)] $\n",
        "\n",
        "Acto seguido, se ordena este subarreglo de medianas y se consigue la mediana de las medianas.\n",
        "\n",
        "$MedianaMedianas = 7$\n",
        "\n",
        "Como la posición de la mediana de medianas en el arreglo de entrada, es decir, la cuarta posición es menor a la del séptimo elemento menor buscado, se realiza partición en 7 y se realiza el procedimiento nuevamente, pero con la partición derecha.\n",
        "\n",
        "$A_b = [9, 11, 10, 8]$\n",
        "\n",
        "Se divide el arreglo en subconjuntos de 5 elementos cada uno a lo más.\n",
        "\n",
        "$Ab_1 = [9, 11, 10, 8]$\n",
        "\n",
        "Luego, cada subarreglo es ordenado de menor a mayor.\n",
        "\n",
        "$Ab_1 = [8, 9, 11, 10]$\n",
        "\n",
        "Se consigue la mediana de cada subarreglo y se guardan sus valores en un arreglo auxiliar.\n",
        "\n",
        "$Medianas = [10 (Ab_1)]$\n",
        "\n",
        "Como el arreglo de medianas es de largo 1, su único elemento es la mediana de las medianas.\n",
        "\n",
        "$MedianaMedianas = 10$\n",
        "\n",
        "Como la posición de la mediana de medianas en el arreglo de entrada, la séptima posición, es igual a la del séptimo elemento menor buscado, se dice por ende que **el séptimo elemento menor del arreglo de entrada es 10**.\n"
      ],
      "metadata": {
        "id": "cRAYitcS_Cc0"
      }
    },
    {
      "cell_type": "markdown",
      "source": [
        "#Paso a paso (verbose=True)"
      ],
      "metadata": {
        "id": "idSTjoAf_Dhj"
      }
    },
    {
      "cell_type": "code",
      "source": [
        "n = random.randint(1,37)\n",
        "arr = random.sample(range(-50, 100), n)\n",
        "print(colored(f\"Arreglo recibido: {arr}\\n\", \"magenta\"))\n",
        "cont = [0]\n",
        "k_esimo = select(arr, inicio, len(arr)-1, key, cont, True)\n",
        "print(colored(f\"\\nArreglo: {arr}\", \"green\"))\n",
        "print(colored(f\"3° valor más pequeño: {k_esimo}\\t Contador: {cont}\", \"green\"))"
      ],
      "metadata": {
        "colab": {
          "base_uri": "https://localhost:8080/"
        },
        "id": "F7xTFHDK_HQI",
        "outputId": "b95ec913-40bc-4f50-e20c-2e50384e56ba"
      },
      "execution_count": 2,
      "outputs": [
        {
          "output_type": "stream",
          "name": "stdout",
          "text": [
            "Arreglo recibido: [93, 26, -48, -17, -14, 74, 41, 18, -42, 15, 31, -37, 7, 91, 47, 51, 84, -25, -27, 10, 46, 81, 60, -29, 27, 66, 12, 75, -38, 44, 21, 2]\n",
            "\n",
            "El valor que se busca es: 3\n",
            "El arreglo se pasa Partition\n",
            "\n",
            "La mediana del sub-arreglo [-48, -17, -14, 26, 93]  es:  -14\n",
            "La mediana del sub-arreglo [-42, 15, 18, 41, 74]  es:  18\n",
            "La mediana del sub-arreglo [-37, 7, 31, 47, 91]  es:  31\n",
            "La mediana del sub-arreglo [-27, -25, 10, 51, 84]  es:  10\n",
            "La mediana del sub-arreglo [-29, 27, 46, 60, 81]  es:  46\n",
            "La mediana del sub-arreglo [-38, 12, 44, 66, 75]  es:  44\n",
            "La mediana del sub-arreglo [2, 21]  es:  21\n",
            "\n",
            "Arreglo de medianas: [-14, 18, 31, 10, 46, 44, 21]\n",
            "La mediana del sub-arreglo [-14, 10, 18, 31, 46]  es:  18\n",
            "La mediana del sub-arreglo [21, 44]  es:  44\n",
            "\n",
            "Arreglo de medianas: [18, 44]\n",
            "El largo del arreglo es menor o igual a 5\n",
            "Mediana: 44\n",
            "\n",
            "El indice obtenido es: 20\n",
            "Arreglo luego de partition [26, -48, -17, -14, 41, 18, -42, 15, 31, -37, 7, -25, -27, 10, -29, 27, 12, -38, 44, 21, 2, 81, 60, 47, 51, 66, 84, 75, 74, 93, 91, 46]\n",
            "\n",
            "Se busca en la mitad: [26, -48, -17, -14, 41, 18, -42, 15, 31, -37, 7, -25, -27, 10, -29, 27, 12, -38, 44, 21]\n",
            "El valor que se busca es: 3\n",
            "El arreglo se pasa Partition\n",
            "\n",
            "La mediana del sub-arreglo [-48, -17, -14, 26, 41]  es:  -14\n",
            "La mediana del sub-arreglo [-42, -37, 15, 18, 31]  es:  15\n",
            "La mediana del sub-arreglo [-29, -27, -25, 7, 10]  es:  -25\n",
            "La mediana del sub-arreglo [-38, 12, 21, 27, 44]  es:  21\n",
            "\n",
            "Arreglo de medianas: [-14, 15, -25, 21]\n",
            "El largo del arreglo es menor o igual a 5\n",
            "Mediana: 15\n",
            "\n",
            "El indice obtenido es: 13\n",
            "Arreglo luego de partition [-48, -17, -14, -42, 15, -37, 7, -25, -27, 10, -29, 12, -38, 21, 26, 27, 41, 31, 44, 18, 2, 81, 60, 47, 51, 66, 84, 75, 74, 93, 91, 46]\n",
            "\n",
            "Se busca en la mitad: [-48, -17, -14, -42, 15, -37, 7, -25, -27, 10, -29, 12, -38]\n",
            "El valor que se busca es: 3\n",
            "El arreglo se pasa Partition\n",
            "\n",
            "La mediana del sub-arreglo [-48, -42, -17, -14, 15]  es:  -17\n",
            "La mediana del sub-arreglo [-37, -27, -25, 7, 10]  es:  -25\n",
            "La mediana del sub-arreglo [-38, -29, 12]  es:  12\n",
            "\n",
            "Arreglo de medianas: [-17, -25, 12]\n",
            "El largo del arreglo es menor o igual a 5\n",
            "Mediana: 12\n",
            "\n",
            "El indice obtenido es: 11\n",
            "Arreglo luego de partition [-48, -17, -14, -42, -37, 7, -25, -27, 10, -29, 12, -38, 15, 21, 26, 27, 41, 31, 44, 18, 2, 81, 60, 47, 51, 66, 84, 75, 74, 93, 91, 46]\n",
            "\n",
            "Se busca en la mitad: [-48, -17, -14, -42, -37, 7, -25, -27, 10, -29, 12]\n",
            "El valor que se busca es: 3\n",
            "El arreglo se pasa Partition\n",
            "\n",
            "La mediana del sub-arreglo [-48, -42, -37, -17, -14]  es:  -37\n",
            "La mediana del sub-arreglo [-29, -27, -25, 7, 10]  es:  -25\n",
            "\n",
            "Arreglo de medianas: [-37, -25]\n",
            "El largo del arreglo es menor o igual a 5\n",
            "Mediana: -25\n",
            "\n",
            "El indice obtenido es: 6\n",
            "Arreglo luego de partition [-48, -42, -37, -25, -27, -29, 12, -14, 10, 7, -17, -38, 15, 21, 26, 27, 41, 31, 44, 18, 2, 81, 60, 47, 51, 66, 84, 75, 74, 93, 91, 46]\n",
            "\n",
            "Se busca en la mitad: [-48, -42, -37, -25, -27, -29]\n",
            "El valor que se busca es: 3\n",
            "El arreglo se pasa Partition\n",
            "\n",
            "El largo del arreglo es menor o igual a 5\n",
            "Mediana: -38\n",
            "\n",
            "El indice obtenido es: 3\n",
            "Arreglo luego de partition [-48, -42, -38, -27, -29, -37, -25, -17, -14, 2, 7, 10, 12, 15, 18, 21, 26, 27, 31, 41, 44, 46, 47, 51, 60, 66, 74, 75, 81, 84, 91, 93]\n",
            "\n",
            "Se busca en la mitad: [-48, -42, -38]\n",
            "El valor que se busca es: 3\n",
            "El arreglo se pasa Partition\n",
            "\n",
            "El largo del arreglo es menor o igual a 5\n",
            "Mediana: -42\n",
            "\n",
            "El indice obtenido es: 2\n",
            "Arreglo luego de partition [-48, -42, -38, -37, -29, -27, -25, -17, -14, 2, 7, 10, 12, 15, 18, 21, 26, 27, 31, 41, 44, 46, 47, 51, 60, 66, 74, 75, 81, 84, 91, 93]\n",
            "\n",
            "El indice es igual al valor que se busca -38\n",
            "\n",
            "Arreglo: [-48, -42, -38, -37, -29, -27, -25, -17, -14, 2, 7, 10, 12, 15, 18, 21, 26, 27, 31, 41, 44, 46, 47, 51, 60, 66, 74, 75, 81, 84, 91, 93]\n",
            "3° valor más pequeño: -38\t Contador: [267]\n"
          ]
        }
      ]
    },
    {
      "cell_type": "markdown",
      "source": [
        "#3.Tiempo de ejecución"
      ],
      "metadata": {
        "id": "F5NyNdQU_dbP"
      }
    },
    {
      "cell_type": "markdown",
      "source": [
        "\n",
        "\n",
        "El tiempo de ejecución de este algoritmo se basa en las funciones que realiza este algoritmo para poder cumplir su objetivo de manera eficiente, sabemos que:\n",
        "\n",
        "\n",
        "\n",
        "> **Insertion Sort**: En el mejor caso, su tiempo de ejecución es $O(1)$ y en el peor es $O(n^2)$, pero nos quedaremos con el dato de mejor caso.\n",
        "\n",
        "\n",
        "\n",
        "> **Partition y pivotSelection** : Estas funciones tiene un tiempo de ejecución lineal, $O(n)$\n",
        "\n",
        "\n",
        "> Nuestro arreglo \"medianas\" contiene n/5 elementos  y esto se obtiene a la recursividad de los llamados para poder encontrar la mediana de medianas, es por esto, que el tiempo de ejecución para poder llevar a cabo lo mencionado anteriormente es $T(n/5)$.\n",
        "\n",
        "\n",
        "\n",
        "> Nuestro peor caso sería que por cada llamada recursiva el subarreglo contenga $T(7n/10)$ elementos.\n",
        "\n",
        "\n",
        "Finalmente, tenemos : **T(n) = O(n) + T(7n/10) + T(n/5)**, desarrollandolo:\n",
        "\n",
        "T(n) = an +  T(7n/10) + T(n/5)\n",
        "\n",
        "cn >= T(7n/10) + T(n/5) + an\n",
        "\n",
        "cn >= cn/5 + 7cn/10 + an\n",
        "\n",
        "c > 9c/10 + a\n",
        "\n",
        "c/10 >= a\n",
        "\n",
        "c >= 10a\n",
        "\n",
        "Por lo que: ***T(n) = O(n)***\n"
      ],
      "metadata": {
        "id": "mRRXX3HH_brX"
      }
    },
    {
      "cell_type": "markdown",
      "source": [
        "#4-Correctitud"
      ],
      "metadata": {
        "id": "PBXD-K0q_jDF"
      }
    },
    {
      "cell_type": "markdown",
      "source": [
        "Select encuentra el n-ésimo elementos menor de un arreglo  de largo $k$, siempre que n <= k.\n",
        "\n",
        "Dado que Select es una función recursiva utilizaremos inducción matemática:\n",
        "\n",
        "    Se asume que Insertion, Partition y PivotSelect son correctos.\n",
        "\n",
        "> Caso base (k = 1): En este caso solo existe un elemento en el arreglo, por lo que este es el n-ésimo menor elemento. \n",
        "\n",
        "> Caso general: Si luego de obtener la mediana de las medianas, esta no es el n-ésimo valor buscado, entonces: \n",
        "Se aplica este valor como pivote en la función partition. Por lo que el arreglo queda en 2 partes, la izquierda siendo los elementos menores al pivote, mientras que los de la derecha, los mayores.\n",
        "Después se comprobará si el pivote es menor o mayor al n-ésimo elemento, si es menor se comprobarán los valores que se encuentran en la derecha del arreglo, en caso contrario se buscaran en el sector izquierdo.\n",
        "> Después de identificar la mitad correcto, se \"enviará\" esa mitad a Select nuevamente, hasta llegar al caso base, y dado que este se tomo como correcto, significa que el caso general también lo es.\n"
      ],
      "metadata": {
        "id": "CzRjwd6p_tDH"
      }
    },
    {
      "cell_type": "markdown",
      "source": [
        "#5-Experimentos"
      ],
      "metadata": {
        "id": "lGwAeVVw_uti"
      }
    },
    {
      "cell_type": "code",
      "source": [
        "import matplotlib.pyplot as plt\n",
        "import datetime\n",
        "from timeit import repeat\n",
        "import random\n",
        "\n",
        "def partition(arr, l, r, cont, verbose = True):\n",
        "\n",
        "    auxArr = arr[l:r+1]\n",
        "    x = random.choice(auxArr)\n",
        "\n",
        "    i = l\n",
        "    for j in range(l, r):\n",
        "        cont[0]+=1\n",
        "        if arr[j] <= x:\n",
        "            arr[i], arr[j] = arr[j], arr[i]\n",
        "            i += 1\n",
        "              \n",
        "    arr[i], arr[r] = arr[r], arr[i]\n",
        "\n",
        "    return i\n",
        "  \n",
        "def RandomSelect(arr, l, r, k, cont, verbose = True):\n",
        "  \n",
        "    if (k > 0 and k <= r - l + 1): #Comprobar validez de la entrada\n",
        "        cont[0]+=1\n",
        "  \n",
        "        index = partition(arr, l, r, cont, verbose) #Se divide el arreglo\n",
        "\n",
        "        if verbose:\n",
        "          print(\"\\nArreglo:\", arr[l:r+1])\n",
        "          print(\"Indice encontrado:\",index)\n",
        "\n",
        "        if (index - l == k - 1): #Si el index es igual al valor ingresado, en esta posición se encuentra el número\n",
        "            cont[0]+=1\n",
        "            if verbose:\n",
        "              print(\"El indice es igual al limite derecho\")\n",
        "\n",
        "            return arr[index]\n",
        "  \n",
        "        #Se llama de manera recursiva a la función select con la mitad identificada\n",
        "        if (index - l > k - 1):\n",
        "            cont[0]+=1\n",
        "            if(verbose):\n",
        "              print(\"Mitad que contiene el valor\", arr[:index])\n",
        "\n",
        "            return RandomSelect(arr, l, index - 1, k, cont, verbose)\n",
        "\n",
        "        if(verbose):\n",
        "              print(\"Mitad que contiene el valor\", arr[index:])\n",
        "\n",
        "        return RandomSelect(arr, index + 1, r, k - index + l - 1, cont, verbose)\n",
        "        \n",
        "    else: \n",
        "      print(\"Entrada invalida\")\n",
        "\n",
        "x=[]; y=[]; x2=[]; y2=[]; cont = [0]\n",
        "\n",
        "for n in range(5,100):\n",
        "  nums = []\n",
        "  nums2 = []\n",
        "\n",
        "  for i in range(0,n):\n",
        "    \n",
        "    a = random.sample(range(1, 1000), n)\n",
        "    nums.append(a)\n",
        "    nums2.append(a)\n",
        "    \n",
        "  k = random.randrange(1,len(nums)-1)\n",
        "  t = repeat(setup=\"from __main__ import select\", stmt=f\"select({nums},{0}, {len(nums)-1},{k}, {cont}, {False})\", repeat=1, number=10)\n",
        "  t2 = repeat(setup=\"from __main__ import RandomSelect\", stmt=f\"RandomSelect({nums2},{0}, {len(nums2)-1},{k}, {cont}, {False})\", repeat=1, number=10)\n",
        "\n",
        "  x.append(n)\n",
        "  y.append(t)\n",
        "\n",
        "  x2.append(n)\n",
        "  y2.append(t2)\n",
        "\n",
        "\n",
        "plt.plot(x,y)\n",
        "plt.plot(x2,y2)\n",
        "plt.title(\"Tiempo de ejecución (Select v/s RandomSelect\")\n",
        "plt.legend([\"Select\",\"RandomSelect\"])\n",
        "\n",
        "plt.xlabel('n')\n",
        "plt.ylabel('time in ms')\n",
        "plt.show()"
      ],
      "metadata": {
        "colab": {
          "base_uri": "https://localhost:8080/",
          "height": 295
        },
        "id": "7o-051xC_2ny",
        "outputId": "0e216d3a-9f82-4f8b-f7f8-02f94b2be92e"
      },
      "execution_count": 3,
      "outputs": [
        {
          "output_type": "display_data",
          "data": {
            "text/plain": [
              "<Figure size 432x288 with 1 Axes>"
            ],
            "image/png": "[encoded data removed]"
          },
          "metadata": {
            "needs_background": "light"
          }
        }
      ]
    },
    {
      "cell_type": "markdown",
      "source": [
        "En el gráfico se puede ver de que ambos algoritmos presentan un tiempo de ejecución similar. Aunque esto pueda parece contra-intuitivo, debido a que uno elige el pivote de forma aleatoria, las verdaderas posibilidades de que ocurra el caso de que el pivote sea desbalanceado son mucho más pequeñas de lo que podría llegar a parecer."
      ],
      "metadata": {
        "id": "wnDZo8IS_1sH"
      }
    },
    {
      "cell_type": "code",
      "source": [
        "import matplotlib.pyplot as plt\n",
        "import random\n",
        "\n",
        "x=[n for n in range(5,100)] \n",
        "y=[]; y2=[]; cont=[0]; cont2=[0]\n",
        "\n",
        "for n in range(5,100):\n",
        "\n",
        "  b = [n for n in range(0,n)]\n",
        "  k = random.randrange(1,len(b)-1)\n",
        "  counter = select(b, 0, len(b)-1, k,cont,False)\n",
        "  y.append(cont[0])\n",
        "  cont[0] = 0\n",
        "\n",
        "  c = [n for n in range(n,0,-1)]\n",
        "  k = random.randrange(1,len(c)-1)\n",
        "  counter = select(b, 0, len(c)-1, k,cont2,False)\n",
        "  y2.append(cont2[0])\n",
        "  cont2[0] = 0\n",
        "\n",
        "\n",
        "plt.plot(x,y)\n",
        "plt.plot(x,y2)\n",
        "plt.title(\"Mejor caso v/s Peor caso teorico de Select\")\n",
        "plt.legend([\"Arreglo creciente\", \"Arreglo decreciente\"])\n",
        "\n",
        "plt.xlabel('n')\n",
        "plt.ylabel('Número de comparaciones')\n",
        "plt.show()"
      ],
      "metadata": {
        "colab": {
          "base_uri": "https://localhost:8080/",
          "height": 295
        },
        "id": "dtWo7qXWACbs",
        "outputId": "88e9f0a9-5cca-42d0-c67c-1771e663c451"
      },
      "execution_count": 4,
      "outputs": [
        {
          "output_type": "display_data",
          "data": {
            "text/plain": [
              "<Figure size 432x288 with 1 Axes>"
            ],
            "image/png": "[encoded data removed]"
          },
          "metadata": {
            "needs_background": "light"
          }
        }
      ]
    },
    {
      "cell_type": "markdown",
      "source": [
        "En el gráfico se ve el número de comparaciones entre el mejor y el peor caso de Select, aunque en realidad esas variaciones que se ven se deben principalmente a las funciones auxiliares, como lo son Insertion Sort y Partition, ya que depende del caso que reciban estas se pueden disparar el número de comparaciones, sobre todo teniendo en consideración que el peor caso de Insertion Sort es similar a un mal caso de Partition."
      ],
      "metadata": {
        "id": "d4jm6Jrt__Ao"
      }
    }
  ]
}