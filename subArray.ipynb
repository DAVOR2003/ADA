{
  "nbformat": 4,
  "nbformat_minor": 0,
  "metadata": {
    "colab": {
      "name": "Untitled3.ipynb",
      "provenance": [],
      "authorship_tag": "ABX9TyPY1GVmre+7vcso5ye79P6u",
      "include_colab_link": true
    },
    "kernelspec": {
      "name": "python3",
      "display_name": "Python 3"
    },
    "language_info": {
      "name": "python"
    }
  },
  "cells": [
    {
      "cell_type": "markdown",
      "metadata": {
        "id": "view-in-github",
        "colab_type": "text"
      },
      "source": [
        "<a href=\"https://colab.research.google.com/github/DAVOR2003/ADA/blob/main/subArray.ipynb\" target=\"_parent\"><img src=\"https://colab.research.google.com/assets/colab-badge.svg\" alt=\"Open In Colab\"/></a>"
      ]
    },
    {
      "cell_type": "markdown",
      "source": [
        "#1-Descripción del algoritmo subarray máximo"
      ],
      "metadata": {
        "id": "vkDGlhElfkCZ"
      }
    },
    {
      "cell_type": "markdown",
      "source": [
        "este algoritmo mas conocido como divide y conquista, consiste en encontrar el subarray contiguo dentro de una matriz unidimensional de números que tiene la suma más grande. primero lo que se hace es recibir una: \\\n",
        "Entrada: [a1,a2,...,an] \\\n",
        "y este lo que hace es encuentrar la suma de los subarrays en el lado izquierdo, los subarrays en el lado derecho. Luego, eche un vistazo a todos los que cruzan la división del centro y finalmente devuelva la suma máxima. \\\n",
        "Salida: número con la suma maxima posible."
      ],
      "metadata": {
        "id": "mz5wgisQhLGO"
      }
    },
    {
      "cell_type": "markdown",
      "source": [
        "![image.png](data:image/png;base64,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)"
      ],
      "metadata": {
        "id": "KJl2raXEUx18"
      }
    },
    {
      "cell_type": "markdown",
      "source": [
        "#Aplicaciones para el algoritmo"
      ],
      "metadata": {
        "id": "dCD99VHmQM0u"
      }
    },
    {
      "cell_type": "markdown",
      "source": [
        "#2 SubArray max:\n"
      ],
      "metadata": {
        "id": "YG10t0IVUAF3"
      }
    },
    {
      "cell_type": "markdown",
      "source": [
        "#2.1-Codigo del algoritmo"
      ],
      "metadata": {
        "id": "0CR2mm0SSmy4"
      }
    },
    {
      "cell_type": "code",
      "source": [
        "from re import X\n",
        "import matplotlib.pyplot as plt\n",
        "import datetime\n",
        "from timeit import repeat\n",
        "import numpy as np\n",
        "import random\n",
        "from termcolor import colored\n",
        "\n",
        "def MaxArray(arr):\n",
        "  global verbose\n",
        "  if len(arr)==1:\n",
        "    return arr[0]\n",
        "\n",
        "  mitad = (len(arr))//2\n",
        "  arr_izq = arr[0:mitad]\n",
        "  arr_der = arr[mitad:]  \n",
        "  max_izq = MaxArray(arr_izq)\n",
        "  max_der = MaxArray(arr_der)\n",
        "  max_mitad,X = CalcMaxMitad(arr,mitad)\n",
        "  global pasadas\n",
        "  pasadas += 1\n",
        "  if (verbose==True):\n",
        "      print(colored(f\"Pasada {pasadas}\",\"green\"),)\n",
        "  \n",
        "      print(colored(\"Sub-arreglo Izquierdo: \",\"blue\"),end=\"\")\n",
        "      if not (hasattr(arr_izq, \"__len__\")):\n",
        "        print(colored(\"No hay\"))\n",
        "      else:\n",
        "        print(f\"{arr_der}\")\n",
        "\n",
        "      print(colored(\"Sub-arreglo Derecho: \",\"blue\"),end=\"\")\n",
        "      if not(hasattr(arr_der, \"__len__\")):\n",
        "        print(\"No hay\")\n",
        "      else:\n",
        "        print(f\"{arr_der}\")\n",
        "      \n",
        "      print(colored(\"Sub-arreglo Medio: \",\"blue\"),f\"{X}\\n\")\n",
        "  return max(max_izq,max_der,max_mitad)\n",
        "\n",
        "def CalcMaxMitad(arr,mitad):\n",
        "  suma = 0\n",
        "  max_izq = -1000000000\n",
        "  for numero in arr[mitad-1::-1]:\n",
        "    suma = suma + numero\n",
        "    if(max_izq<suma):\n",
        "      max_izq = suma\n",
        "      izqId=arr.index(numero)\n",
        "  \n",
        "  suma = 0\n",
        "  max_der = -1000000000\n",
        "  for numero in arr[mitad:]:\n",
        "    suma = suma + numero\n",
        "    if(max_der<suma):\n",
        "      max_der = suma\n",
        "      derId=arr.index(numero)\n",
        " # print(max_izq,max_der)\n",
        "  X=arr[izqId:derId+1]\n",
        "  return max_izq + max_der,X\n",
        "\n",
        "n = random.randint(4, 30)\n",
        "verbose=False\n",
        "a=random.sample(range(-100,100),n)\n",
        "#a = [-2, -3, 4, -1, -2, 1, 5, -3]\n",
        "print(a)\n",
        "y=-1000000000000\n",
        "valor=MaxArray(a)\n",
        "print(valor)     "
      ],
      "metadata": {
        "id": "zaV_xQRZGZrb",
        "colab": {
          "base_uri": "https://localhost:8080/"
        },
        "outputId": "2c7e7d13-7748-4b72-a258-48af029b0fc1"
      },
      "execution_count": 161,
      "outputs": [
        {
          "output_type": "stream",
          "name": "stdout",
          "text": [
            "[86, 66, 72, -73]\n",
            "224\n"
          ]
        }
      ]
    },
    {
      "cell_type": "code",
      "source": [
        "\n",
        "from sys import maxsize\n",
        "import random\n",
        "import termcolor\n",
        "\n",
        "def kadane(a,size):\n",
        "    global comp\n",
        "    max_so_far = -maxsize - 1\n",
        "    max_ending_here = 0\n",
        "    start = 0\n",
        "    end = 0\n",
        "    s = 0\n",
        "  \n",
        "    for i in range(0,size):\n",
        "        comp += 1\n",
        "        max_ending_here += a[i]\n",
        "  \n",
        "        if max_so_far < max_ending_here:\n",
        "            max_so_far = max_ending_here\n",
        "            start = s\n",
        "            end = i\n",
        "  \n",
        "        if max_ending_here < 0:\n",
        "            max_ending_here = 0\n",
        "            s = i+1\n",
        "  \n",
        "    #print (\"maxima suma posible %d\"%(max_so_far))\n",
        "    #print (\"primer indice %d\"%(start))\n",
        "    #print (\"ultimo indice %d\"%(end))\n",
        "a=random.sample(range(-100,100),10)\n",
        "#a = [-2, -3, 4, -1, -2, 1, 5, -3]\n",
        "print(a)\n",
        "kadane(a,len(a))"
      ],
      "metadata": {
        "colab": {
          "base_uri": "https://localhost:8080/"
        },
        "id": "QJGvEf5-d9CS",
        "outputId": "7f2b1731-9504-4480-8d88-fb02fb79f414"
      },
      "execution_count": 164,
      "outputs": [
        {
          "output_type": "stream",
          "name": "stdout",
          "text": [
            "[53, -2, 93, -43, -29, 99, -34, 58, 80, 95]\n"
          ]
        }
      ]
    },
    {
      "cell_type": "markdown",
      "source": [
        "#2.2-Descripcion del algoritmo(subarray maximo):"
      ],
      "metadata": {
        "id": "cqT4tloPMC05"
      }
    },
    {
      "cell_type": "markdown",
      "source": [
        "paso a paso de como va funcionando el algoritmo:\n"
      ],
      "metadata": {
        "id": "BZyDoeJMWysq"
      }
    },
    {
      "cell_type": "markdown",
      "source": [
        "1-La lista u arreglo se divide a la mitad en cada llamada recursiva hasta obtener dos elementos adyacentes, siempre verificando que el largo de esta lista no sea 1\n",
        "\n",
        "2.Mientras la lista se va dividiendo, va guardando la suma de los valores de estos subarreglos.\n",
        "\n",
        "3.Al final de este bucle, se comparan los valores de las sumas máximas obtenidas, y retorna la que fue mayor.\n",
        "\n",
        "4.Al final, se imprime en pantalla la lista o arreglo y retorna una suma que es la mayor obtenida además de el valor del indice inicial más el final: maxSum, startmaxsum, endmaxsum."
      ],
      "metadata": {
        "id": "2bSGtGnBW28T"
      }
    },
    {
      "cell_type": "markdown",
      "source": [
        "#2.3-Ejemplo:"
      ],
      "metadata": {
        "id": "6SwmSJBwSf-Y"
      }
    },
    {
      "cell_type": "markdown",
      "source": [
        "consideremos la lista: \\\n",
        "A:[3,-6,8,-2] \\\n",
        "primera mente partiremos este arreglo en 2  \\\n",
        "q=[3,-6] , w[8,-2] \\\n",
        "y seguimos asi para poder lograr separar toda la lista \\\n",
        "e=[3] , r=[-6] , t=[8] , y[-2] \\\n",
        "ahora debemos empezar a comparar y sumar \\\n",
        "aquí sum l.l =3  y sum l.r = -6  y sum r.l = 8 y sum r.r = -2 \\\n",
        "q=[3,-6] , w=[8,-2] , aca la suma suma l = -3 y suma r = 6 \\\n",
        "mientras que l+r.l = [3,-6,8] la suma es = 5 \\\n",
        "q+w = [3,-6,8,-2] la suma es = 3 \\\n",
        "entonces como se puede observar la suma maxima q se puede obtener de este arreglo es 8 y su subarreglo es [8] en el indice 2 respectivamente"
      ],
      "metadata": {
        "id": "2U__sT2hSijl"
      }
    },
    {
      "cell_type": "markdown",
      "source": [
        "#2.4-Paso a paso (verbose=true)"
      ],
      "metadata": {
        "id": "a5AmJwPqmmm8"
      }
    },
    {
      "cell_type": "code",
      "source": [
        "n = random.randint(4, 15)\n",
        "A = random.sample(range(-100, 100), n)\n",
        "pasadas = 0\n",
        "verbose = True\n",
        "\n",
        "print(colored(\"Entrada:\", \"red\"),A,\"\\n\")\n",
        "maxSum = MaxArray(A)\n",
        "print(colored(f\"Suma máxima:\" ,\"red\"),maxSum)"
      ],
      "metadata": {
        "colab": {
          "base_uri": "https://localhost:8080/"
        },
        "id": "Ln0L8qpxmhWO",
        "outputId": "9af2f2ce-116c-44ce-9925-8283c681b25f"
      },
      "execution_count": 165,
      "outputs": [
        {
          "output_type": "stream",
          "name": "stdout",
          "text": [
            "\u001b[31mEntrada:\u001b[0m [56, -97, 81, -81, 4, 19, -45, -11, -39, -92] \n",
            "\n",
            "\u001b[32mPasada 1\u001b[0m\n",
            "\u001b[34mSub-arreglo Izquierdo: \u001b[0m[-97]\n",
            "\u001b[34mSub-arreglo Derecho: \u001b[0m[-97]\n",
            "\u001b[34mSub-arreglo Medio: \u001b[0m [56, -97]\n",
            "\n",
            "\u001b[32mPasada 2\u001b[0m\n",
            "\u001b[34mSub-arreglo Izquierdo: \u001b[0m[4]\n",
            "\u001b[34mSub-arreglo Derecho: \u001b[0m[4]\n",
            "\u001b[34mSub-arreglo Medio: \u001b[0m [-81, 4]\n",
            "\n",
            "\u001b[32mPasada 3\u001b[0m\n",
            "\u001b[34mSub-arreglo Izquierdo: \u001b[0m[-81, 4]\n",
            "\u001b[34mSub-arreglo Derecho: \u001b[0m[-81, 4]\n",
            "\u001b[34mSub-arreglo Medio: \u001b[0m [81, -81, 4]\n",
            "\n",
            "\u001b[32mPasada 4\u001b[0m\n",
            "\u001b[34mSub-arreglo Izquierdo: \u001b[0m[81, -81, 4]\n",
            "\u001b[34mSub-arreglo Derecho: \u001b[0m[81, -81, 4]\n",
            "\u001b[34mSub-arreglo Medio: \u001b[0m [56, -97, 81]\n",
            "\n",
            "\u001b[32mPasada 5\u001b[0m\n",
            "\u001b[34mSub-arreglo Izquierdo: \u001b[0m[-45]\n",
            "\u001b[34mSub-arreglo Derecho: \u001b[0m[-45]\n",
            "\u001b[34mSub-arreglo Medio: \u001b[0m [19, -45]\n",
            "\n",
            "\u001b[32mPasada 6\u001b[0m\n",
            "\u001b[34mSub-arreglo Izquierdo: \u001b[0m[-92]\n",
            "\u001b[34mSub-arreglo Derecho: \u001b[0m[-92]\n",
            "\u001b[34mSub-arreglo Medio: \u001b[0m [-39, -92]\n",
            "\n",
            "\u001b[32mPasada 7\u001b[0m\n",
            "\u001b[34mSub-arreglo Izquierdo: \u001b[0m[-39, -92]\n",
            "\u001b[34mSub-arreglo Derecho: \u001b[0m[-39, -92]\n",
            "\u001b[34mSub-arreglo Medio: \u001b[0m [-11, -39]\n",
            "\n",
            "\u001b[32mPasada 8\u001b[0m\n",
            "\u001b[34mSub-arreglo Izquierdo: \u001b[0m[-11, -39, -92]\n",
            "\u001b[34mSub-arreglo Derecho: \u001b[0m[-11, -39, -92]\n",
            "\u001b[34mSub-arreglo Medio: \u001b[0m [19, -45, -11]\n",
            "\n",
            "\u001b[32mPasada 9\u001b[0m\n",
            "\u001b[34mSub-arreglo Izquierdo: \u001b[0m[19, -45, -11, -39, -92]\n",
            "\u001b[34mSub-arreglo Derecho: \u001b[0m[19, -45, -11, -39, -92]\n",
            "\u001b[34mSub-arreglo Medio: \u001b[0m [4, 19]\n",
            "\n",
            "\u001b[31mSuma máxima:\u001b[0m 81\n"
          ]
        }
      ]
    },
    {
      "cell_type": "markdown",
      "source": [
        "#3-Correctitud:"
      ],
      "metadata": {
        "id": "o7Tib7bEY1ZD"
      }
    },
    {
      "cell_type": "markdown",
      "source": [
        "**Probar Correctitud de MaxSubArrayMid**\n",
        "Teorema:El algoritmo maxmid retorna el resultado de la suma máxima de los valores consecutivos de un subarreglo  que pase por el medio y contiene los elementos de un arreglo [a1,a2,...,an] \\\n",
        "\n",
        "para poder comprovar si esta funncion lo que haremos es demostrarla usando inducción matemática:\n",
        "- **Caso Base:** Teniendo un arreglo de largo $n$, con $n = 1$.\n",
        "- **Caso General:** Cuando se tiene un arreglo de largo $n$, con $n > 1$.\n",
        "\n",
        "primero caso base: en el caso base al ingresar el arreglo de solo 1 elemento este sera el unico subarreglo por lo que sera el subarreglo maximo , esto comprueba que que el caso base es correcto\n",
        "\n",
        "Ahora para el caso general: probaremos que el algoritmo es correcto para arreglos de largo $n$, con $n > 1$.  \n",
        "para un arreglo de largo $n$, se conseguirá un sub-arreglo máximo izquierdo Array$[i, mid]$ y también un sub-arreglo máximo derecho Array$[mid+1, j]$, y este despues de recorrer y comparar cada uno de estos retornara el subarreglo maximo izquiero y derecho popr lo que cumple la funcion de retornar el subarraymax correctamente. "
      ],
      "metadata": {
        "id": "pZs--wJgacHI"
      }
    },
    {
      "cell_type": "markdown",
      "source": [
        "**Probar Correctitud de MaxSubArray** \\\n",
        "Teorema:El algoritmo subMaxArray retorna la suma máxima de un subarreglo de elementos pertenecientes al arreglo original \\prueba del teorema ahora para los casos: \\\n",
        "caso base: para un arreglo de tamaño 1 la suma máxima es el mismo elemento, por lo que se retorna asi mismo \\\n",
        "caso general: deduciremos que el arreglo es de tamaño $n$ y $n > 1$. \\\n",
        "El algoritmo se subdivide de manera recursiva n/2,y buscando la suma maxima de cada subarreglo\n",
        "\n",
        "Además, esta función llama a la función maxmid, por lo que también retornará la respectiva suma máxima que pase por el medio del arreglo original\n",
        "\n",
        "entonces como los subarreglos siguen siendo menores que n asumiremos que este se seguira subdividiendo hasta poder lograr la suma maxima respectivamente\n",
        "\n",
        "Finalmente, como la función retorna la suma máxima entre las tres que fueron encontradas, se puede concluir que la función maxArray es correcta.\n",
        "\n",
        "\n"
      ],
      "metadata": {
        "id": "jSLaiC6WdEnH"
      }
    },
    {
      "cell_type": "markdown",
      "source": [
        "#4-Tiempo de ejecucion:"
      ],
      "metadata": {
        "id": "03OXEUohZNK1"
      }
    },
    {
      "cell_type": "markdown",
      "source": [
        "**Teorema tiempo de ejecucion**"
      ],
      "metadata": {
        "id": "3uQW6x-IZVgn"
      }
    },
    {
      "cell_type": "markdown",
      "source": [
        "El algoritmo maxArray tiene un tiempo de ejecución de $O(nlog (n))$ aunque sea una lista o arreglo independientemente de su orden, esto se debe a que sin importar del orden, el algoritmo siempre dividira el arreglo hasta el último elemento."
      ],
      "metadata": {
        "id": "zmZDyGzTY904"
      }
    },
    {
      "cell_type": "markdown",
      "source": [
        "**Prueba del teorema(metodo maestro)**"
      ],
      "metadata": {
        "id": "uN9TxlBRZgIQ"
      }
    },
    {
      "cell_type": "markdown",
      "source": [
        "Primero, analizaremos la estructura de la función que representa MaxSubArray y determinaremos que su tiempo de ejecucion sera.  \n",
        "- $T(n)= 2T(n/2) + O(n)$\n",
        "\n",
        "Siguiendo la siguiente estructura: $T(n) \\leq aT(n/b)+O(n^d)$, al observar atentamente podemos determinarv que los valores serían los siguientes:  \n",
        "- $a = 2$\n",
        "- $b = 2$\n",
        "- $d = 1$\n",
        "\n",
        "Teniendo estos valores, y observando las opciones que tenemos más abajo, podemos percatarnos que $a = b^d$, esto quiere decir que el tiempo de ejecución del algoritmo MaxSubArray es de $O(n \\cdot logn)$.\n"
      ],
      "metadata": {
        "id": "ncrpu0ueZpfB"
      }
    },
    {
      "cell_type": "markdown",
      "source": [
        "![image.png](https://chartreuse-goal-d5c.notion.site/image/https%3A%2F%2Fs3-us-west-2.amazonaws.com%2Fsecure.notion-static.com%2F6be820c4-964e-44c1-acbd-db888889e8df%2FUntitled.png?table=block&id=1f05807a-07c4-4bd5-a59a-4402523d7383&spaceId=4f8bebe4-a843-44d2-b6ee-51e2006a90d1&width=1150&userId=&cache=v2)"
      ],
      "metadata": {
        "id": "Lkqzq0M_aSSj"
      }
    },
    {
      "cell_type": "markdown",
      "source": [
        "#5-Experimentos"
      ],
      "metadata": {
        "id": "qHwYYQqtaWYJ"
      }
    },
    {
      "cell_type": "code",
      "source": [
        "import matplotlib.pyplot as plt\n",
        "import datetime\n",
        "from timeit import repeat\n",
        "\n",
        "x= []\n",
        "y=[]\n",
        "y1=[]\n",
        "flag=False\n",
        "for n in range(2,500):\n",
        "  List= random.sample(range(-1000, 1000), n)\n",
        "  t1= repeat(setup=\"from __main__ import MaxArray\", stmt= f\"MaxArray({List})\", repeat= 1, number= 10)\n",
        "  y.append(t1)\n",
        "  t2= repeat(setup=\"from __main__ import kadane \", stmt= f\"kadane({List},{len(List)})\", repeat= 1, number= 10)\n",
        "  y1.append(t2)\n",
        "  x.append(n)\n",
        "\n",
        "\n",
        "plt.plot(x,y,\"y--\",lw=2)\n",
        "plt.plot(x,y1,\"m-\",lw=1)\n",
        "plt.xlim(0,500)\n",
        "plt.legend([\"MaxArray\",\"kedane\"])\n",
        "\n",
        "plt.title(\"Tiempo de ejecucición de MaxArray vs kadane \", fontsize=14)\n",
        "plt.xlabel('n')\n",
        "plt.ylabel('Time in ms')\n",
        "plt.show()"
      ],
      "metadata": {
        "colab": {
          "base_uri": "https://localhost:8080/",
          "height": 297
        },
        "id": "7sMqGVW-f4R2",
        "outputId": "7ae26d9c-f375-4b26-bd59-033e485a3287"
      },
      "execution_count": 142,
      "outputs": [
        {
          "output_type": "display_data",
          "data": {
            "text/plain": [
              "<Figure size 432x288 with 1 Axes>"
            ],
            "image/png": "[encoded data removed]"
          },
          "metadata": {
            "needs_background": "light"
          }
        }
      ]
    },
    {
      "cell_type": "markdown",
      "source": [
        "**Analisis resultados** \\\n",
        "como se puede observar en el grafico la diferencia de tiempo en ambas en brutal, esto se debe ya que el algoritmo de kadane su tiempo de ejecucion es O(n) por lo que hace que se mueva de manera lineal, y el el algoritmo recursivo del subarreglo maximo es O(nlogn) lo que hace que esta crezca de manera bestial comparado a al algotimo de kadane "
      ],
      "metadata": {
        "id": "K2cLgOIAhsiy"
      }
    }
  ]
}