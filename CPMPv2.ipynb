{
  "nbformat": 4,
  "nbformat_minor": 0,
  "metadata": {
    "colab": {
      "provenance": [],
      "include_colab_link": true
    },
    "kernelspec": {
      "name": "python3",
      "display_name": "Python 3"
    },
    "language_info": {
      "name": "python"
    }
  },
  "cells": [
    {
      "cell_type": "markdown",
      "metadata": {
        "id": "view-in-github",
        "colab_type": "text"
      },
      "source": [
        "<a href=\"https://colab.research.google.com/github/DAVOR2003/ADA/blob/main/CPMPv2.ipynb\" target=\"_parent\"><img src=\"https://colab.research.google.com/assets/colab-badge.svg\" alt=\"Open In Colab\"/></a>"
      ]
    },
    {
      "cell_type": "markdown",
      "source": [
        "# Layout functions"
      ],
      "metadata": {
        "id": "w6P7NDRsVML4"
      }
    },
    {
      "cell_type": "code",
      "source": [
        "def compute_sorted_elements(stack):\n",
        "    if len(stack)==0: return 0\n",
        "    sorted_elements=1\n",
        "    while(sorted_elements<len(stack) and stack[sorted_elements] <= stack[sorted_elements-1]):\n",
        "        sorted_elements +=1\n",
        "    \n",
        "    return sorted_elements   \n",
        "    \n",
        "class Layout:\n",
        "    def __init__(self, stacks, H):\n",
        "        self.stacks = stacks\n",
        "        self.sorted_elements = []\n",
        "        self.total_elements = 0\n",
        "        self.sorted_stack = []\n",
        "        self.unsorted_stacks = 0\n",
        "        self.steps = 0\n",
        "        self.current_step = 0\n",
        "        self.moves = []\n",
        "        self.H = H\n",
        "        self.full_stacks = 0\n",
        "        self.last_sd = None\n",
        "        self.bsg_moves=[]\n",
        "        self.prev_move=None\n",
        "        self.dismantling_stack=None\n",
        "        self.max_item=max(set().union(*stacks))\n",
        "        self.G=0\n",
        "        \n",
        "        j=0\n",
        "        \n",
        "        for stack in stacks:\n",
        "            if len(stack)>0:\n",
        "              g = max(stack)\n",
        "              if self.G<g: self.G=g\n",
        "\n",
        "            self.total_elements += len(stack)\n",
        "            if len(stack) == self.H: self.full_stacks+=1\n",
        "            self.sorted_elements.append(compute_sorted_elements(stack))\n",
        "            if not self.is_sorted_stack(j):\n",
        "                self.unsorted_stacks += 1\n",
        "                self.sorted_stack.append(False)\n",
        "            else: self.sorted_stack.append(True)\n",
        "            j += 1\n",
        "    \n",
        "    \n",
        "    \n",
        "    def move(self,move):\n",
        "        i = move[0]; j=move[1]\n",
        "        \n",
        "        if i==j: return None\n",
        "        if len(self.stacks[i]) == 0: return None\n",
        "        if len(self.stacks[j]) == self.H: return None\n",
        "        \n",
        "        if len(self.stacks[i]) == self.H: self.full_stacks -= 1\n",
        "        if len(self.stacks[j]) == self.H-1: self.full_stacks += 1\n",
        "        \n",
        "        c = self.stacks[i][-1]\n",
        "\n",
        "        if self.is_sorted_stack(i):\n",
        "            self.sorted_elements[i] -= 1\n",
        "            self.prev_move = \"g\"\n",
        "        else:  self.prev_move =\"b\"\n",
        "            \n",
        "        if self.is_sorted_stack(j) and self.gvalue(j) >= c:\n",
        "            self.sorted_elements[j] += 1\n",
        "            self.prev_move += \"g\"\n",
        "        else: self.prev_move += \"b\"\n",
        "            \n",
        "        self.stacks[i].pop(-1)\n",
        "        self.stacks[j].append(c)\n",
        "        \n",
        "        self.is_sorted_stack(i)\n",
        "        self.is_sorted_stack(j)\n",
        "        self.steps += 1\n",
        "        self.current_step += 1\n",
        "        self.moves.append((i,j))\n",
        "        \n",
        "        return c\n",
        "                       \n",
        "    def is_sorted_stack(self, j):\n",
        "        sorted = len(self.stacks[j]) == self.sorted_elements[j]\n",
        "\n",
        "        if j<len(self.sorted_stack) and self.sorted_stack[j] != sorted: \n",
        "            self.sorted_stack[j] = sorted\n",
        "            if sorted == True: self.unsorted_stacks -= 1\n",
        "            else: self.unsorted_stacks += 1\n",
        "        return sorted\n",
        "\n",
        "    def gvalue(self, i):\n",
        "        if len(self.stacks[i])==0: return self.G\n",
        "        else: return self.stacks[i][-1]\n",
        "\n",
        "def reachable_height(layout, i):\n",
        "    if not layout.is_sorted_stack(i): return -1;\n",
        "    \n",
        "    top = layout.gvalue(i)\n",
        "    h = len(layout.stacks[i])\n",
        "    if h==layout.H: return h;\n",
        "    \n",
        "    stack=layout.stacks[i]\n",
        "    all_stacks = True #True: all the bad located tops can be placed in stack\n",
        "    \n",
        "    for k in range(len(layout.stacks)):\n",
        "        if k==i: continue\n",
        "        if layout.is_sorted_stack(k): continue\n",
        "            \n",
        "        stack_k=layout.stacks[k]\n",
        "        unsorted = len(stack_k)-layout.sorted_elements[k]\n",
        "        prev = 1000;\n",
        "        for j in range (1,unsorted+1):\n",
        "            if stack_k[-j] <= prev and stack_k[-j] <=top:\n",
        "                h += 1\n",
        "                if h==layout.H: return h\n",
        "                prev = stack_k[-j]\n",
        "            else: \n",
        "                if j==1: all_stacks=False\n",
        "                break\n",
        "                \n",
        "    if all_stacks: return layout.H\n",
        "    else: return h"
      ],
      "metadata": {
        "id": "kjQ8XbHLU7VK"
      },
      "execution_count": 77,
      "outputs": []
    },
    {
      "cell_type": "markdown",
      "source": [
        "# Generador de layouts"
      ],
      "metadata": {
        "id": "k1Zm26BXVzfV"
      }
    },
    {
      "cell_type": "code",
      "source": [
        "import random \n",
        "def generate_random_layout(S,H,N):\n",
        "    stacks = []\n",
        "    for i in range(S):\n",
        "        stacks.append([])\n",
        "    \n",
        "    for j in range(N):\n",
        "        s=random.randint(0,S-1);\n",
        "        while len(stacks[s])==H: s=s=random.randint(0,S-1);\n",
        "        stacks[s].append(random.randint(1,N));\n",
        "    \n",
        "\n",
        "    return Layout(stacks,H)"
      ],
      "metadata": {
        "id": "yrNpjPyzVJ1E"
      },
      "execution_count": 78,
      "outputs": []
    },
    {
      "cell_type": "markdown",
      "source": [
        "# Greedy functions\n",
        "![image](https://i.imgur.com/t4l142S.png)"
      ],
      "metadata": {
        "id": "Sz9fWMExWY-b"
      }
    },
    {
      "cell_type": "code",
      "source": [
        "def is_valid_BG_move(layout, s_o, s_d):\n",
        "    if s_o != s_d  and len(layout.stacks[s_o]) > 0 \\\n",
        "    and  len(layout.stacks[s_d]) < layout.H \\\n",
        "    and layout.is_sorted_stack(s_o)==False \\\n",
        "    and layout.is_sorted_stack(s_d)==True \\\n",
        "    and layout.gvalue(s_o) <= layout.gvalue(s_d):\n",
        "      return True\n",
        "\n",
        "    else: return False\n",
        "\n",
        "def select_bg_move(layout):\n",
        "  bg_move = None\n",
        "  S=len(layout.stacks)\n",
        "  min_diff = 100\n",
        "  for s_o in range(S):\n",
        "     for s_d in range(S):\n",
        "       if is_valid_BG_move(layout, s_o, s_d):\n",
        "          diff = layout.gvalue(s_d)-layout.gvalue(s_o)\n",
        "          if min_diff > diff:\n",
        "            min_diff = diff\n",
        "            bg_move = (s_o,s_d)\n",
        "  return bg_move\n",
        "\n",
        "# ...\n"
      ],
      "metadata": {
        "id": "Mg7ZOCeBVwvF"
      },
      "execution_count": 79,
      "outputs": []
    },
    {
      "cell_type": "markdown",
      "source": [
        "Obtiene matriz a partir de Layout"
      ],
      "metadata": {
        "id": "f8hnmkhwBZfd"
      }
    },
    {
      "cell_type": "code",
      "source": [
        "import numpy as np\n",
        "\n",
        "def get_ann_state(layout):\n",
        "  S=len(layout.stacks)\n",
        "  b = 20*np.ones([S,layout.H])\n",
        "  for i,j in enumerate(layout.stacks):\n",
        "     b[i][layout.H-len(j):] = j  \n",
        "     #b[i][:len(j)] = j  \n",
        "  b.shape=(S,layout.H)\n",
        "  return b\n",
        "\n",
        "layout = generate_random_layout(5,5,10)\n",
        "print(layout.stacks)\n",
        "get_ann_state(layout)\n"
      ],
      "metadata": {
        "colab": {
          "base_uri": "https://localhost:8080/"
        },
        "id": "q37XtzthBXSW",
        "outputId": "bae0c0d7-1fa9-4154-c28e-24d67a21a4a3"
      },
      "execution_count": 80,
      "outputs": [
        {
          "output_type": "stream",
          "name": "stdout",
          "text": [
            "[[9, 5, 5], [8], [6], [10, 8, 7, 6], [2]]\n"
          ]
        },
        {
          "output_type": "execute_result",
          "data": {
            "text/plain": [
              "array([[20., 20.,  9.,  5.,  5.],\n",
              "       [20., 20., 20., 20.,  8.],\n",
              "       [20., 20., 20., 20.,  6.],\n",
              "       [20., 10.,  8.,  7.,  6.],\n",
              "       [20., 20., 20., 20.,  2.]])"
            ]
          },
          "metadata": {},
          "execution_count": 80
        }
      ]
    },
    {
      "cell_type": "code",
      "source": [
        "from copy import deepcopy\n",
        "copy_lay = deepcopy(layout)\n",
        "copy_lay.stacks"
      ],
      "metadata": {
        "colab": {
          "base_uri": "https://localhost:8080/"
        },
        "id": "y1_yLZ3XCmOw",
        "outputId": "4280adb6-946a-4c86-e140-6de8b96eb1cd"
      },
      "execution_count": 81,
      "outputs": [
        {
          "output_type": "execute_result",
          "data": {
            "text/plain": [
              "[[9, 5, 5], [8], [6], [10, 8, 7, 6], [2]]"
            ]
          },
          "metadata": {},
          "execution_count": 81
        }
      ]
    },
    {
      "cell_type": "markdown",
      "source": [
        "El resto de las funciones se pueden adaptar de [aquí](https://github.com/rilianx/cpmp/blob/main/src/Greedy.cpp).\n",
        "\n",
        "* `reduction_move`: es el movimiento de recucción. Hay que adaptarlo sin la parte de `smart_assignation`\n",
        "* `get_destination_stack`: Es la función que en el paper se llama `select_destination`. Utiliza la función `ev_dest_stack` ar evaluar los stacks y retorna el mejor evaluado.\n",
        "* `iter_greedy`: corresponde a una la iteración del algoritmo FRG\n"
      ],
      "metadata": {
        "id": "aeu45fbxcxx7"
      }
    },
    {
      "cell_type": "markdown",
      "source": [
        "# Examples"
      ],
      "metadata": {
        "id": "m5ETitl1V_vL"
      }
    },
    {
      "cell_type": "code",
      "source": [
        "layout = generate_random_layout(5,5,10)\n",
        "print(layout.stacks)"
      ],
      "metadata": {
        "colab": {
          "base_uri": "https://localhost:8080/"
        },
        "id": "JeG2bN34Vttn",
        "outputId": "d13879d2-6994-4867-a388-982e1b98ef96"
      },
      "execution_count": 82,
      "outputs": [
        {
          "output_type": "stream",
          "name": "stdout",
          "text": [
            "[[1, 5], [6, 8], [7, 5], [], [2, 5, 1, 6]]\n"
          ]
        }
      ]
    },
    {
      "cell_type": "code",
      "source": [
        "from copy import deepcopy\n",
        "def greedy(layout):\n",
        "  steps = 0\n",
        "  while layout.unsorted_stacks>0:\n",
        "    bg_move=select_bg_move(layout)\n",
        "    if bg_move is not None:\n",
        "      #print(\"bg_move:\", bg_move)\n",
        "      layout.move(bg_move)\n",
        "    else:\n",
        "      #print(\"no hay movimiento BG posibles\")\n",
        "      #print(\"elementos mal ubicados:\", layout.total_elements - sum(layout.sorted_elements))\n",
        "      return -1 # no lo resuelve\n",
        "    steps +=1\n",
        "\n",
        "  if layout.unsorted_stacks==0: \n",
        "    #print(\"resuelto!\")\n",
        "  \n",
        "   return steps\n",
        "\n",
        "layout = generate_random_layout(5,5,10)\n",
        "copy_lay = deepcopy(layout)\n",
        "copy_lay.stacks\n",
        "val=greedy (layout)\n",
        "listeichon = posibilidades(layout,copy_lay,val)\n",
        "print(listeichon)"
      ],
      "metadata": {
        "colab": {
          "base_uri": "https://localhost:8080/"
        },
        "id": "8fgBXTjGYNaq",
        "outputId": "0844ba2c-b260-46c0-bca8-82f6d975e3ef"
      },
      "execution_count": 83,
      "outputs": [
        {
          "output_type": "stream",
          "name": "stdout",
          "text": [
            "[-4, 1, 1, -1, 2, 1, 2, 1, 1, 0, 1, 0, 1, 0, 1, 0, 1, 1, 1, 1]\n"
          ]
        }
      ]
    },
    {
      "cell_type": "code",
      "source": [
        "def posibilidades(layout,layoutt,num):\n",
        "  lista=[]\n",
        "  for i in range(5):\n",
        "    for j in range(5):\n",
        "      if(i!=j):\n",
        "       layout.move((i,j))\n",
        "       val=greedy(layout)\n",
        "       if(val>-1):\n",
        "         val=val+1-num\n",
        "      \n",
        "       lista.append(val)\n",
        "       layout = deepcopy(layoutt)\n",
        "       layout.stacks\n",
        "\n",
        "  return lista\n",
        "   "
      ],
      "metadata": {
        "id": "zzl1ZuDOJywm"
      },
      "execution_count": 84,
      "outputs": []
    },
    {
      "cell_type": "code",
      "source": [
        "layout.stacks"
      ],
      "metadata": {
        "colab": {
          "base_uri": "https://localhost:8080/"
        },
        "id": "a7Qnare7DiTJ",
        "outputId": "4305584e-a54e-49c7-ba9a-675c943b99c2"
      },
      "execution_count": 85,
      "outputs": [
        {
          "output_type": "execute_result",
          "data": {
            "text/plain": [
              "[[1], [10, 8, 7, 5, 4], [5, 5], [2], [9]]"
            ]
          },
          "metadata": {},
          "execution_count": 85
        }
      ]
    },
    {
      "cell_type": "code",
      "source": [
        "layout.move((1,0))"
      ],
      "metadata": {
        "colab": {
          "base_uri": "https://localhost:8080/"
        },
        "id": "ijX08hOPDjYZ",
        "outputId": "a5a49b9d-4625-4fe9-b7d5-3ca365d4fa69"
      },
      "execution_count": 86,
      "outputs": [
        {
          "output_type": "execute_result",
          "data": {
            "text/plain": [
              "4"
            ]
          },
          "metadata": {},
          "execution_count": 86
        }
      ]
    },
    {
      "cell_type": "code",
      "source": [
        "def generate_data(S=5, H=5, N=15, M=1, sample_size=1000, levels=1, x = [], y= []):\n",
        "  lays = []\n",
        "  for n in range(sample_size):\n",
        "    layout = generate_random_layout(S,H,N)\n",
        "    copy_lay = deepcopy(layout)\n",
        "    copy_lay.stacks\n",
        "    val=greedy (layout)\n",
        "    listeichon = posibilidades(layout,copy_lay,val)\n",
        "    x.append(get_ann_state(layout))\n",
        "    y.append(listeichon)\n",
        "    lays.append(layout)\n",
        "  return x, y, lays\n",
        "\n",
        "x,y,_= generate_data(sample_size=2, M=1, x = [], y= [])\n",
        "x[0].shape=(5,5)\n",
        "x[1].shape=(5,5)\n",
        "print(x,y)"
      ],
      "metadata": {
        "id": "AawdxXbYQo5b",
        "outputId": "19eacf79-33d7-4cfe-d5ed-2bfbe212747e",
        "colab": {
          "base_uri": "https://localhost:8080/"
        }
      },
      "execution_count": 87,
      "outputs": [
        {
          "output_type": "stream",
          "name": "stdout",
          "text": [
            "[array([[20., 20., 20.,  9.,  7.],\n",
            "       [20., 20., 14.,  9.,  7.],\n",
            "       [20., 12.,  4., 12., 11.],\n",
            "       [20., 20., 20.,  6.,  2.],\n",
            "       [20., 12., 10., 10., 10.]]), array([[20., 20., 20.,  7.,  4.],\n",
            "       [20., 20., 20.,  7., 14.],\n",
            "       [12., 10.,  9.,  9.,  8.],\n",
            "       [20., 20., 20., 11., 15.],\n",
            "       [20., 15., 15.,  7.,  3.]])] [[-1, -1, -1, -1, -1, -1, -1, -1, -1, -1, -1, -1, -1, -1, -1, -1, -1, -1, -1, -1], [-1, -1, -1, -1, -1, -1, -1, -1, -1, -1, -1, -1, -1, -1, -1, -1, -1, -1, -1, -1]]\n"
          ]
        }
      ]
    },
    {
      "cell_type": "code",
      "source": [
        "import tensorflow as tf\n",
        "from tensorflow.keras import layers\n",
        "\n",
        "def generate_model(S=5, H=5, N=15):\n",
        "  model = tf.keras.Sequential()\n",
        "  model.add(layers.Dense(256, activation='relu', input_shape=(S*H,)))\n",
        "  model.add(layers.Dense(128, activation='relu'))\n",
        "  model.add(layers.Dense(20))\n",
        "  return model\n",
        "\n",
        "x_train, y_train, lays = generate_data(sample_size=10000, M=1, x=[], y=[])\n",
        "unique, counts = np.unique(np.array(y_train), return_counts=True)\n",
        "\n",
        "Fmodel=generate_model() # predice steps\n",
        "Fmodel.compile(loss='mse', optimizer='adam', metrics=['mse'])\n",
        "Fmodel.fit(np.array(x_train), np.array(y_train), epochs=5, verbose=True)\n",
        "\n",
        "x_test, y_test, _ = generate_data(sample_size=10000, x=[], y=[])\n",
        "test_loss, test_acc = Fmodel.evaluate(np.array(x_test), np.array(y_test))\n",
        "print('Test accuracy:', test_acc)"
      ],
      "metadata": {
        "id": "Q5X9BuwhDmDp"
      },
      "execution_count": null,
      "outputs": []
    },
    {
      "cell_type": "code",
      "source": [
        "Fmodel.save_weights('model.h5')"
      ],
      "metadata": {
        "id": "UARG2sLiTlFF"
      },
      "execution_count": null,
      "outputs": []
    }
  ]
}